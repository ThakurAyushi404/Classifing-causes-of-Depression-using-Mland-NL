{
 "cells": [
  {
   "cell_type": "markdown",
   "metadata": {},
   "source": [
    "# 🔵 Jupyter Notebook: Comparing Supervised and Unsupervised Methods for Depression Cause Classification\n",
    "\n",
    "# 1. Introduction\n",
    "# Classifying causes of depression (General Depression, Stress, Domestic Violence, Gender Inequality, Ambiguous)\n",
    "# Comparing Supervised (SVM, XGBoost+BERT) vs Unsupervised (KMeans)\n",
    "\n",
    "# 2. Data Loading and Preprocessing\n"
   ]
  },
  {
   "cell_type": "code",
   "execution_count": 1,
   "metadata": {},
   "outputs": [],
   "source": [
    "import pandas as pd\n",
    "import numpy as np\n",
    "from sklearn.model_selection import train_test_split\n",
    "from sklearn.preprocessing import LabelEncoder\n",
    "from sklearn.feature_extraction.text import TfidfVectorizer\n",
    "from sklearn.metrics import classification_report, accuracy_score, precision_recall_fscore_support"
   ]
  },
  {
   "cell_type": "code",
   "execution_count": 2,
   "metadata": {},
   "outputs": [],
   "source": [
    "train_df = pd.read_csv(r\"D:\\unitec\\MachineLearningCourse\\Thesis_code\\final_psychiatric_dataset_with_dv.csv\")\n",
    "\n",
    "validation_df = pd.read_csv(r\"D:\\unitec\\MachineLearningCourse\\Thesis_code\\ManuallyAnnotated_data.csv\")\n",
    "\n",
    "# Preprocessing\n",
    "train_df.dropna(subset=['tweet', 'Class'], inplace=True)\n",
    "validation_df.dropna(subset=['tweet', 'Class'], inplace=True)\n",
    "\n",
    "# Encode Labels\n",
    "le = LabelEncoder()\n",
    "train_df['Class_encoded'] = le.fit_transform(train_df['Class'])\n",
    "validation_df['Class_encoded'] = le.transform(validation_df['Class'])\n",
    "\n",
    "# Train-Test Split\n",
    "X_train, X_test, y_train, y_test = train_test_split(train_df['tweet'], train_df['Class_encoded'], test_size=0.25, stratify=train_df['Class_encoded'], random_state=42)"
   ]
  },
  {
   "cell_type": "code",
   "execution_count": null,
   "metadata": {},
   "outputs": [],
   "source": [
    "# 3. Supervised Models\n",
    "\n",
    "# TF-IDF + SVM\n",
    "from sklearn.svm import SVC\n",
    "\n",
    "vectorizer = TfidfVectorizer(max_features=3000, ngram_range=(1,2), stop_words='english')\n",
    "X_train_tfidf = vectorizer.fit_transform(X_train)\n",
    "X_test_tfidf = vectorizer.transform(X_test)\n",
    "\n",
    "svm = SVC(kernel='linear', probability=True)\n",
    "svm.fit(X_train_tfidf, y_train)\n",
    "\n",
    "y_pred_svm = svm.predict(X_test_tfidf)\n",
    "\n",
    "# Evaluate SVM\n",
    "print(\"SVM Results:\")\n",
    "print(classification_report(y_test, y_pred_svm, target_names=le.classes_))\n",
    "\n",
    "# BERT Embeddings + XGBoost\n",
    "from sentence_transformers import SentenceTransformer\n",
    "from xgboost import XGBClassifier\n",
    "from imblearn.over_sampling import SMOTE\n",
    "\n",
    "bert_model = SentenceTransformer('all-MiniLM-L6-v2')\n",
    "X_train_bert = bert_model.encode(X_train.tolist(), show_progress_bar=True)\n",
    "X_test_bert = bert_model.encode(X_test.tolist(), show_progress_bar=True)\n",
    "\n",
    "# Balance classes\n",
    "smote = SMOTE(random_state=42)\n",
    "X_train_bert_res, y_train_res = smote.fit_resample(X_train_bert, y_train)\n",
    "\n",
    "xgb = XGBClassifier(n_estimators=200, learning_rate=0.1, max_depth=6, use_label_encoder=False, eval_metric='mlogloss', random_state=42)\n",
    "xgb.fit(X_train_bert_res, y_train_res)\n",
    "\n",
    "y_pred_xgb = xgb.predict(X_test_bert)\n",
    "\n",
    "# Evaluate XGBoost+BERT\n",
    "print(\"XGBoost+BERT Results:\")\n",
    "print(classification_report(y_test, y_pred_xgb, target_names=le.classes_))"
   ]
  },
  {
   "cell_type": "markdown",
   "metadata": {},
   "source": [
    "\n",
    " 4. Unsupervised Model (KMeans)"
   ]
  },
  {
   "cell_type": "code",
   "execution_count": null,
   "metadata": {},
   "outputs": [],
   "source": [
    "from sklearn.cluster import KMeans\n",
    "from sklearn.metrics import adjusted_rand_score, normalized_mutual_info_score, silhouette_score\n",
    "\n",
    "# Clustering with TF-IDF features\n",
    "kmeans = KMeans(n_clusters=len(le.classes_), random_state=42)\n",
    "kmeans.fit(X_test_tfidf)\n",
    "clusters = kmeans.predict(X_test_tfidf)\n",
    "\n",
    "# Evaluate clustering\n",
    "print(\"Unsupervised Clustering Results:\")\n",
    "print(f\"Adjusted Rand Index: {adjusted_rand_score(y_test, clusters):.2f}\")\n",
    "print(f\"Normalized Mutual Information: {normalized_mutual_info_score(y_test, clusters):.2f}\")\n",
    "print(f\"Silhouette Score: {silhouette_score(X_test_tfidf, clusters):.2f}\")\n",
    "\n",
    "# 5. Validation Set Evaluation\n",
    "X_val_bert = bert_model.encode(validation_df['tweet'].tolist(), show_progress_bar=True)\n",
    "\n",
    "val_preds_xgb = xgb.predict(X_val_bert)\n",
    "\n",
    "# Evaluate on Validation Set\n",
    "print(\"Validation Set Evaluation (XGBoost+BERT):\")\n",
    "print(classification_report(validation_df['Class_encoded'], val_preds_xgb, target_names=le.classes_))\n",
    "\n",
    "# 6. Comparison Summary\n",
    "from tabulate import tabulate\n",
    "import matplotlib.pyplot as plt\n",
    "\n",
    "# Dummy values, to be filled after running evaluations\n",
    "comparison_data = {\n",
    "    'Model': ['SVM', 'XGBoost+BERT', 'KMeans Clustering'],\n",
    "    'Accuracy': [0.0, 0.0, None],\n",
    "    'Precision': [0.0, 0.0, None],\n",
    "    'Recall': [0.0, 0.0, None],\n",
    "    'F1-score': [0.0, 0.0, None],\n",
    "    'ARI': [None, None, 0.0],\n",
    "    'NMI': [None, None, 0.0]\n",
    "}"
   ]
  }
 ],
 "metadata": {
  "kernelspec": {
   "display_name": "Python 3",
   "language": "python",
   "name": "python3"
  },
  "language_info": {
   "codemirror_mode": {
    "name": "ipython",
    "version": 3
   },
   "file_extension": ".py",
   "mimetype": "text/x-python",
   "name": "python",
   "nbconvert_exporter": "python",
   "pygments_lexer": "ipython3",
   "version": "3.12.0"
  }
 },
 "nbformat": 4,
 "nbformat_minor": 2
}
