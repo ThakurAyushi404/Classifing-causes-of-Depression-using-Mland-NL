{
 "cells": [
  {
   "cell_type": "code",
   "execution_count": null,
   "metadata": {},
   "outputs": [
    {
     "name": "stderr",
     "output_type": "stream",
     "text": [
      "Rate limit exceeded. Sleeping for 133 seconds.\n",
      "Rate limit exceeded. Sleeping for 900 seconds.\n"
     ]
    },
    {
     "name": "stdout",
     "output_type": "stream",
     "text": [
      "📌 Progress: 100 tweets fetched...\n"
     ]
    },
    {
     "name": "stderr",
     "output_type": "stream",
     "text": [
      "Rate limit exceeded. Sleeping for 901 seconds.\n",
      "Rate limit exceeded. Sleeping for 901 seconds.\n",
      "Rate limit exceeded. Sleeping for 900 seconds.\n",
      "Rate limit exceeded. Sleeping for 901 seconds.\n"
     ]
    },
    {
     "name": "stdout",
     "output_type": "stream",
     "text": [
      "⚠️ Error occurred: ('Connection aborted.', RemoteDisconnected('Remote end closed connection without response'))\n",
      "⏳ Sleeping for 60 seconds before retrying...\n"
     ]
    },
    {
     "name": "stderr",
     "output_type": "stream",
     "text": [
      "Rate limit exceeded. Sleeping for 899 seconds.\n",
      "Rate limit exceeded. Sleeping for 1 seconds.\n",
      "Rate limit exceeded. Sleeping for 899 seconds.\n",
      "Rate limit exceeded. Sleeping for 1 seconds.\n",
      "Rate limit exceeded. Sleeping for 899 seconds.\n",
      "Rate limit exceeded. Sleeping for 901 seconds.\n",
      "Rate limit exceeded. Sleeping for 900 seconds.\n"
     ]
    },
    {
     "name": "stdout",
     "output_type": "stream",
     "text": [
      "⚠️ Error occurred: ('Connection aborted.', RemoteDisconnected('Remote end closed connection without response'))\n",
      "⏳ Sleeping for 60 seconds before retrying...\n"
     ]
    },
    {
     "name": "stderr",
     "output_type": "stream",
     "text": [
      "Rate limit exceeded. Sleeping for 900 seconds.\n",
      "Rate limit exceeded. Sleeping for 900 seconds.\n",
      "Rate limit exceeded. Sleeping for 900 seconds.\n"
     ]
    },
    {
     "name": "stdout",
     "output_type": "stream",
     "text": [
      "⚠️ Error occurred: ('Connection aborted.', RemoteDisconnected('Remote end closed connection without response'))\n",
      "⏳ Sleeping for 60 seconds before retrying...\n"
     ]
    },
    {
     "name": "stderr",
     "output_type": "stream",
     "text": [
      "Rate limit exceeded. Sleeping for 900 seconds.\n",
      "Rate limit exceeded. Sleeping for 901 seconds.\n",
      "Rate limit exceeded. Sleeping for 900 seconds.\n"
     ]
    },
    {
     "name": "stdout",
     "output_type": "stream",
     "text": [
      "⚠️ Error occurred: ('Connection aborted.', RemoteDisconnected('Remote end closed connection without response'))\n",
      "⏳ Sleeping for 60 seconds before retrying...\n"
     ]
    },
    {
     "name": "stderr",
     "output_type": "stream",
     "text": [
      "Rate limit exceeded. Sleeping for 901 seconds.\n"
     ]
    },
    {
     "name": "stdout",
     "output_type": "stream",
     "text": [
      "⚠️ Error occurred: ('Connection aborted.', RemoteDisconnected('Remote end closed connection without response'))\n",
      "⏳ Sleeping for 60 seconds before retrying...\n"
     ]
    },
    {
     "name": "stderr",
     "output_type": "stream",
     "text": [
      "Rate limit exceeded. Sleeping for 900 seconds.\n",
      "Rate limit exceeded. Sleeping for 901 seconds.\n",
      "Rate limit exceeded. Sleeping for 901 seconds.\n",
      "Rate limit exceeded. Sleeping for 901 seconds.\n"
     ]
    },
    {
     "name": "stdout",
     "output_type": "stream",
     "text": [
      "⚠️ Error occurred: ('Connection aborted.', RemoteDisconnected('Remote end closed connection without response'))\n",
      "⏳ Sleeping for 60 seconds before retrying...\n",
      "⚠️ Error occurred: HTTPSConnectionPool(host='api.twitter.com', port=443): Max retries exceeded with url: /2/tweets/search/recent?tweet.fields=created_at%2Cpublic_metrics%2Clang&user.fields=username&expansions=author_id&max_results=100&next_token=b26v89c19zqg8o3fsbw7tscilu0x0u81xujencxljm3ct&query=%28%23genderinequality+OR+%23metoo+OR+%23womensrights+OR+%23paygap+OR+%23equalpay+OR+%22gender+discrimination%22%29+lang%3Aen+-is%3Aretweet (Caused by NameResolutionError(\"<urllib3.connection.HTTPSConnection object at 0x000001F5C7BB5F10>: Failed to resolve 'api.twitter.com' ([Errno 11001] getaddrinfo failed)\"))\n",
      "⏳ Sleeping for 60 seconds before retrying...\n"
     ]
    },
    {
     "name": "stderr",
     "output_type": "stream",
     "text": [
      "Rate limit exceeded. Sleeping for 899 seconds.\n"
     ]
    },
    {
     "name": "stdout",
     "output_type": "stream",
     "text": [
      "⚠️ Error occurred: ('Connection aborted.', RemoteDisconnected('Remote end closed connection without response'))\n",
      "⏳ Sleeping for 60 seconds before retrying...\n"
     ]
    },
    {
     "name": "stderr",
     "output_type": "stream",
     "text": [
      "Rate limit exceeded. Sleeping for 901 seconds.\n",
      "Rate limit exceeded. Sleeping for 901 seconds.\n",
      "Rate limit exceeded. Sleeping for 900 seconds.\n"
     ]
    },
    {
     "name": "stdout",
     "output_type": "stream",
     "text": [
      "⚠️ Error occurred: ('Connection aborted.', RemoteDisconnected('Remote end closed connection without response'))\n",
      "⏳ Sleeping for 60 seconds before retrying...\n"
     ]
    },
    {
     "name": "stderr",
     "output_type": "stream",
     "text": [
      "Rate limit exceeded. Sleeping for 901 seconds.\n"
     ]
    },
    {
     "name": "stdout",
     "output_type": "stream",
     "text": [
      "⚠️ Error occurred: ('Connection aborted.', RemoteDisconnected('Remote end closed connection without response'))\n",
      "⏳ Sleeping for 60 seconds before retrying...\n",
      "⚠️ Error occurred: HTTPSConnectionPool(host='api.twitter.com', port=443): Max retries exceeded with url: /2/tweets/search/recent?tweet.fields=created_at%2Cpublic_metrics%2Clang&user.fields=username&expansions=author_id&max_results=100&next_token=b26v89c19zqg8o3fsbw7tscilu0x0u81xujencxljm3ct&query=%28%23genderinequality+OR+%23metoo+OR+%23womensrights+OR+%23paygap+OR+%23equalpay+OR+%22gender+discrimination%22%29+lang%3Aen+-is%3Aretweet (Caused by NameResolutionError(\"<urllib3.connection.HTTPSConnection object at 0x000001F5C7B8B9B0>: Failed to resolve 'api.twitter.com' ([Errno 11001] getaddrinfo failed)\"))\n",
      "⏳ Sleeping for 60 seconds before retrying...\n"
     ]
    },
    {
     "name": "stderr",
     "output_type": "stream",
     "text": [
      "Rate limit exceeded. Sleeping for 901 seconds.\n",
      "Rate limit exceeded. Sleeping for 901 seconds.\n",
      "Rate limit exceeded. Sleeping for 901 seconds.\n",
      "Rate limit exceeded. Sleeping for 901 seconds.\n",
      "Rate limit exceeded. Sleeping for 900 seconds.\n"
     ]
    },
    {
     "name": "stdout",
     "output_type": "stream",
     "text": [
      "⚠️ Error occurred: HTTPSConnectionPool(host='api.twitter.com', port=443): Max retries exceeded with url: /2/tweets/search/recent?tweet.fields=created_at%2Cpublic_metrics%2Clang&user.fields=username&expansions=author_id&max_results=100&next_token=b26v89c19zqg8o3fsbw7tscilu0x0u81xujencxljm3ct&query=%28%23genderinequality+OR+%23metoo+OR+%23womensrights+OR+%23paygap+OR+%23equalpay+OR+%22gender+discrimination%22%29+lang%3Aen+-is%3Aretweet (Caused by NameResolutionError(\"<urllib3.connection.HTTPSConnection object at 0x000001F5C7B8BB30>: Failed to resolve 'api.twitter.com' ([Errno 11001] getaddrinfo failed)\"))\n",
      "⏳ Sleeping for 60 seconds before retrying...\n"
     ]
    },
    {
     "name": "stderr",
     "output_type": "stream",
     "text": [
      "Rate limit exceeded. Sleeping for 900 seconds.\n"
     ]
    },
    {
     "name": "stdout",
     "output_type": "stream",
     "text": [
      "⚠️ Error occurred: ('Connection aborted.', RemoteDisconnected('Remote end closed connection without response'))\n",
      "⏳ Sleeping for 60 seconds before retrying...\n"
     ]
    },
    {
     "name": "stderr",
     "output_type": "stream",
     "text": [
      "Rate limit exceeded. Sleeping for 901 seconds.\n",
      "Rate limit exceeded. Sleeping for 901 seconds.\n",
      "Rate limit exceeded. Sleeping for 901 seconds.\n",
      "Rate limit exceeded. Sleeping for 900 seconds.\n",
      "Rate limit exceeded. Sleeping for 900 seconds.\n",
      "Rate limit exceeded. Sleeping for 901 seconds.\n"
     ]
    }
   ],
   "source": [
    "\n",
    "import tweepy\n",
    "import csv\n",
    "import os\n",
    "import time\n",
    "\n",
    "# === Replace with your Bearer Token ===\n",
    "BEARER_TOKEN = 'AAAAAAAAAAAAAAAAAAAAAELXyAEAAAAAbsaI4msqWhLncKtgLWHeVL9KPME%3Di2D45OYTpQxwM9JEz1Tk9pfkxfwzhzJcgOMTZZw3XnB6fbZc0l'\n",
    "\n",
    "# Initialize Tweepy client\n",
    "client = tweepy.Client(bearer_token=BEARER_TOKEN, wait_on_rate_limit=True)\n",
    "\n",
    "# Query parameters\n",
    "query = '(#genderinequality OR #metoo OR #womensrights OR #paygap OR #equalpay OR \"gender discrimination\") lang:en -is:retweet'\n",
    "max_results = 100\n",
    "total_tweets_to_fetch = 1500\n",
    "csv_filename = 'gender_inequality_tweets_resumable.csv'\n",
    "progress_filename = 'progress_checkpoint.txt'\n",
    "\n",
    "# Load last progress if exists\n",
    "since_id = None\n",
    "if os.path.exists(progress_filename):\n",
    "    with open(progress_filename, 'r') as f:\n",
    "        since_id = f.read().strip()\n",
    "        print(f\"🔁 Resuming from tweet ID: {since_id}\")\n",
    "\n",
    "# Open CSV for append or create if not exists\n",
    "file_exists = os.path.isfile(csv_filename)\n",
    "with open(csv_filename, mode='a', newline='', encoding='utf-8') as file:\n",
    "    writer = csv.writer(file)\n",
    "    if not file_exists:\n",
    "        writer.writerow(['created_at', 'id', 'text', 'username', 'retweet_count', 'like_count'])\n",
    "\n",
    "    tweet_count = 0\n",
    "    next_token = None\n",
    "    most_recent_id = None\n",
    "\n",
    "    while tweet_count < total_tweets_to_fetch:\n",
    "        try:\n",
    "            response = client.search_recent_tweets(\n",
    "                query=query,\n",
    "                tweet_fields=['created_at', 'public_metrics', 'lang'],\n",
    "                user_fields=['username'],\n",
    "                expansions='author_id',\n",
    "                max_results=max_results,\n",
    "                since_id=since_id,\n",
    "                next_token=next_token\n",
    "            )\n",
    "\n",
    "            if not response.data:\n",
    "                print(\"✅ No new tweets found.\")\n",
    "                break\n",
    "\n",
    "            users = {u[\"id\"]: u for u in response.includes['users']}\n",
    "\n",
    "            for tweet in response.data:\n",
    "                author = users.get(tweet.author_id)\n",
    "                writer.writerow([\n",
    "                    tweet.created_at,\n",
    "                    tweet.id,\n",
    "                    tweet.text.replace('\\n', ' ').strip(),\n",
    "                    author.username if author else '',\n",
    "                    tweet.public_metrics['retweet_count'],\n",
    "                    tweet.public_metrics['like_count']\n",
    "                ])\n",
    "                tweet_count += 1\n",
    "\n",
    "                if most_recent_id is None or int(tweet.id) > int(most_recent_id):\n",
    "                    most_recent_id = tweet.id\n",
    "\n",
    "                if tweet_count % 100 == 0:\n",
    "                    print(f\"📌 Progress: {tweet_count} tweets fetched...\")\n",
    "\n",
    "                if tweet_count >= total_tweets_to_fetch:\n",
    "                    break\n",
    "\n",
    "            next_token = response.meta.get('next_token')\n",
    "            if not next_token:\n",
    "                break\n",
    "\n",
    "        except Exception as e:\n",
    "            print(f\"⚠️ Error occurred: {e}\")\n",
    "            print(\"⏳ Sleeping for 60 seconds before retrying...\")\n",
    "            time.sleep(60)\n",
    "\n",
    "# Save the last tweet ID to resume later\n",
    "if most_recent_id:\n",
    "    with open(progress_filename, 'w') as f:\n",
    "        f.write(str(most_recent_id))\n",
    "\n",
    "print(f\"✅ Finished fetching {tweet_count} tweets. Saved to {csv_filename}\")\n"
   ]
  }
 ],
 "metadata": {
  "kernelspec": {
   "display_name": "Python 3",
   "language": "python",
   "name": "python3"
  },
  "language_info": {
   "codemirror_mode": {
    "name": "ipython",
    "version": 3
   },
   "file_extension": ".py",
   "mimetype": "text/x-python",
   "name": "python",
   "nbconvert_exporter": "python",
   "pygments_lexer": "ipython3",
   "version": "3.12.0"
  }
 },
 "nbformat": 4,
 "nbformat_minor": 2
}
